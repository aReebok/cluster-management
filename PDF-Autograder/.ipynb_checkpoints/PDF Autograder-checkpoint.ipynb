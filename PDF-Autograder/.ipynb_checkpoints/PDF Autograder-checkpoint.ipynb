{
 "cells": [
  {
   "cell_type": "code",
   "execution_count": null,
   "id": "16efce3e",
   "metadata": {},
   "outputs": [],
   "source": [
    "## this is a jupyter nb for testing out different technologies/libraries to find the best"
   ]
  },
  {
   "cell_type": "code",
   "execution_count": 24,
   "id": "5597f6ea",
   "metadata": {},
   "outputs": [],
   "source": [
    "import tkinter # check if these dependencies for camelot are importable\n",
    "import ghostscript"
   ]
  },
  {
   "cell_type": "code",
   "execution_count": 27,
   "id": "9e9e3ae3",
   "metadata": {},
   "outputs": [],
   "source": [
    "import camelot"
   ]
  },
  {
   "cell_type": "code",
   "execution_count": 35,
   "id": "97475f06",
   "metadata": {},
   "outputs": [
    {
     "name": "stdout",
     "output_type": "stream",
     "text": [
      "Total tables extracted from table.pdf: 1\n",
      "Total tables extracted from lab6.pdf: 0\n"
     ]
    }
   ],
   "source": [
    "file = \"table.pdf\"\n",
    "lab = \"lab6.pdf\"\n",
    "\n",
    "tables = camelot.read_pdf(file)\n",
    "print(\"Total tables extracted from \"  + file + \":\", tables.n)\n",
    "\n",
    "tables = camelot.read_pdf(lab) #Does not detect 1x1 cells\n",
    "print(\"Total tables extracted from \"  + lab + \":\", tables.n)\n"
   ]
  },
  {
   "cell_type": "code",
   "execution_count": 51,
   "id": "78e4c6a5",
   "metadata": {},
   "outputs": [
    {
     "data": {
      "text/plain": [
       "'C:\\\\Users\\\\Areeba\\\\Desktop\\\\F21\\\\cluster-management\\\\PDF-Autograder'"
      ]
     },
     "execution_count": 51,
     "metadata": {},
     "output_type": "execute_result"
    }
   ],
   "source": [
    "import cv2\n",
    "import os\n",
    "import shutil\n",
    "\n",
    "os.chdir(\"C:\\\\Users\\\\Areeba\\\\Desktop\\\\F21\\\\cluster-management\\\\PDF-Autograder\")\n",
    "os.getcwd()"
   ]
  },
  {
   "cell_type": "code",
   "execution_count": 52,
   "id": "f500f62e",
   "metadata": {},
   "outputs": [],
   "source": [
    "from pdf2image import convert_from_path    # should also get poppler (choco install poppler)\n",
    "\n",
    "pdf_name = 'lab6.pdf'\n",
    "\n",
    "pages = convert_from_path(pdf_name, 500) # this step takes a long time...\n"
   ]
  },
  {
   "cell_type": "code",
   "execution_count": 53,
   "id": "6d8e5610",
   "metadata": {},
   "outputs": [],
   "source": [
    "def pgcount_to_string (count):\n",
    "    if(int(count/10) == 0):\n",
    "        return str(0) + str(count)\n",
    "    return str(count)"
   ]
  },
  {
   "cell_type": "code",
   "execution_count": 54,
   "id": "8a3c855f",
   "metadata": {},
   "outputs": [],
   "source": [
    "def page_name(count):\n",
    "    return \"out_\" + pgcount_to_string(count) + \".jpg\""
   ]
  },
  {
   "cell_type": "code",
   "execution_count": 55,
   "id": "b67fd00b",
   "metadata": {
    "scrolled": true
   },
   "outputs": [],
   "source": [
    "# creates a directory with pdf name\n",
    "main_path_dir = os.getcwd()\n",
    "\n",
    "pdf_dir = pdf_name.split(\".\")[0]\n",
    "\n",
    "if os.path.exists(pdf_dir) and os.path.isdir(pdf_dir):\n",
    "    shutil.rmtree(pdf_dir)\n",
    "    \n",
    "os.mkdir(pdf_dir)\n",
    "os.chdir(pdf_dir)\n",
    "\n",
    "count = 1;\n",
    "\n",
    "for page in pages:\n",
    "    img_name = page_name(count)\n",
    "    page.save(img_name, 'JPEG')\n",
    "    count += 1\n",
    "    \n",
    "os.chdir(\"..\")\n"
   ]
  },
  {
   "cell_type": "code",
   "execution_count": 73,
   "id": "f2d1b0d2",
   "metadata": {},
   "outputs": [],
   "source": [
    "os.chdir(pdf_dir)\n",
    "\n",
    "image = cv2.imread('out_05.jpg')\n",
    "original = image.copy()\n",
    "gray = cv2.cvtColor(image, cv2.COLOR_BGR2GRAY)\n",
    "blurred = cv2.GaussianBlur(gray, (3, 3), 0)\n",
    "thresh = cv2.threshold(blurred, 230,255,cv2.THRESH_BINARY_INV)[1]\n",
    "\n",
    "cnts = cv2.findContours(thresh, cv2.RETR_EXTERNAL, cv2.CHAIN_APPROX_SIMPLE)\n",
    "cnts = cnts[0] if len(cnts) == 2 else cnts[1]\n",
    "\n",
    "image_number = 0\n",
    "min_area = 10000\n",
    "for c in cnts:\n",
    "    area = cv2.contourArea(c)\n",
    "    if area > min_area:\n",
    "        x,y,w,h = cv2.boundingRect(c)\n",
    "        cv2.rectangle(image, (x, y), (x + w, y + h), (36,255,12), 2)\n",
    "        ROI = original[y:y+h, x:x+w]\n",
    "        cv2.imwrite(\"ROI_{}.png\".format(image_number), ROI)\n",
    "        image_number += 1\n",
    "        \n",
    "cv2.waitKey(0)\n",
    "\n",
    "os.chdir(\"..\")"
   ]
  }
 ],
 "metadata": {
  "kernelspec": {
   "display_name": "Python 3 (ipykernel)",
   "language": "python",
   "name": "python3"
  },
  "language_info": {
   "codemirror_mode": {
    "name": "ipython",
    "version": 3
   },
   "file_extension": ".py",
   "mimetype": "text/x-python",
   "name": "python",
   "nbconvert_exporter": "python",
   "pygments_lexer": "ipython3",
   "version": "3.9.7"
  }
 },
 "nbformat": 4,
 "nbformat_minor": 5
}
