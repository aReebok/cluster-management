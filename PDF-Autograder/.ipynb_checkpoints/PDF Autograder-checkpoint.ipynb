{
 "cells": [
  {
   "cell_type": "code",
   "execution_count": 24,
   "id": "5597f6ea",
   "metadata": {},
   "outputs": [],
   "source": [
    "import tkinter # check if these dependencies for camelot are importable\n",
    "import ghostscript"
   ]
  },
  {
   "cell_type": "code",
   "execution_count": 27,
   "id": "9e9e3ae3",
   "metadata": {},
   "outputs": [],
   "source": [
    "import camelot"
   ]
  },
  {
   "cell_type": "code",
   "execution_count": 35,
   "id": "97475f06",
   "metadata": {},
   "outputs": [
    {
     "name": "stdout",
     "output_type": "stream",
     "text": [
      "Total tables extracted from table.pdf: 1\n",
      "Total tables extracted from lab6.pdf: 0\n"
     ]
    }
   ],
   "source": [
    "file = \"table.pdf\"\n",
    "lab = \"lab6.pdf\"\n",
    "\n",
    "tables = camelot.read_pdf(file)\n",
    "print(\"Total tables extracted from \"  + file + \":\", tables.n)\n",
    "\n",
    "tables = camelot.read_pdf(lab) #Does not detect 1x1 cells\n",
    "print(\"Total tables extracted from \"  + lab + \":\", tables.n)\n"
   ]
  },
  {
   "cell_type": "code",
   "execution_count": 30,
   "id": "78e4c6a5",
   "metadata": {},
   "outputs": [],
   "source": [
    "import cv2\n",
    "import os"
   ]
  },
  {
   "cell_type": "code",
   "execution_count": 13,
   "id": "f500f62e",
   "metadata": {},
   "outputs": [],
   "source": [
    "from pdf2image import convert_from_path    # should also get poppler (choco install poppler)\n",
    "\n",
    "pdf_name = 'lab6.pdf'\n",
    "\n",
    "pages = convert_from_path(pdf_name, 500)\n"
   ]
  },
  {
   "cell_type": "code",
   "execution_count": 66,
   "id": "84041091",
   "metadata": {},
   "outputs": [
    {
     "name": "stdout",
     "output_type": "stream",
     "text": [
      "C:\\Users\\Areeba\\Desktop\\F21\\cluster-management\\PDF-Autograder\\lab6\n"
     ]
    },
    {
     "ename": "FileNotFoundError",
     "evalue": "[WinError 2] The system cannot find the file specified: 'C:\\\\Users\\\\Areeba\\\\Desktop\\\\F21\\\\cluster-management\\\\PDF-Autograder\\\\lab6\\\\lab6'",
     "output_type": "error",
     "traceback": [
      "\u001b[1;31m---------------------------------------------------------------------------\u001b[0m",
      "\u001b[1;31mFileNotFoundError\u001b[0m                         Traceback (most recent call last)",
      "\u001b[1;32m~\\AppData\\Local\\Temp/ipykernel_18884/2047742777.py\u001b[0m in \u001b[0;36m<module>\u001b[1;34m\u001b[0m\n\u001b[0;32m      8\u001b[0m \u001b[1;31m# os.chdir(directory)\u001b[0m\u001b[1;33m\u001b[0m\u001b[1;33m\u001b[0m\u001b[0m\n\u001b[0;32m      9\u001b[0m \u001b[0mprint\u001b[0m\u001b[1;33m(\u001b[0m\u001b[0mos\u001b[0m\u001b[1;33m.\u001b[0m\u001b[0mgetcwd\u001b[0m\u001b[1;33m(\u001b[0m\u001b[1;33m)\u001b[0m\u001b[1;33m)\u001b[0m\u001b[1;33m\u001b[0m\u001b[1;33m\u001b[0m\u001b[0m\n\u001b[1;32m---> 10\u001b[1;33m \u001b[0mos\u001b[0m\u001b[1;33m.\u001b[0m\u001b[0mchdir\u001b[0m\u001b[1;33m(\u001b[0m\u001b[0mos\u001b[0m\u001b[1;33m.\u001b[0m\u001b[0mgetcwd\u001b[0m\u001b[1;33m(\u001b[0m\u001b[1;33m)\u001b[0m \u001b[1;33m+\u001b[0m \u001b[1;34m\"\\\\\"\u001b[0m \u001b[1;33m+\u001b[0m \u001b[0mdirectory\u001b[0m\u001b[1;33m)\u001b[0m\u001b[1;33m\u001b[0m\u001b[1;33m\u001b[0m\u001b[0m\n\u001b[0m\u001b[0;32m     11\u001b[0m \u001b[0mprint\u001b[0m\u001b[1;33m(\u001b[0m\u001b[0mos\u001b[0m\u001b[1;33m.\u001b[0m\u001b[0mgetcwd\u001b[0m\u001b[1;33m(\u001b[0m\u001b[1;33m)\u001b[0m\u001b[1;33m)\u001b[0m\u001b[1;33m\u001b[0m\u001b[1;33m\u001b[0m\u001b[0m\n\u001b[0;32m     12\u001b[0m \u001b[0mos\u001b[0m\u001b[1;33m.\u001b[0m\u001b[0mchdir\u001b[0m\u001b[1;33m(\u001b[0m\u001b[1;34m'..'\u001b[0m\u001b[1;33m)\u001b[0m\u001b[1;33m\u001b[0m\u001b[1;33m\u001b[0m\u001b[0m\n",
      "\u001b[1;31mFileNotFoundError\u001b[0m: [WinError 2] The system cannot find the file specified: 'C:\\\\Users\\\\Areeba\\\\Desktop\\\\F21\\\\cluster-management\\\\PDF-Autograder\\\\lab6\\\\lab6'"
     ]
    }
   ],
   "source": [
    "# creates a directory with pdf name\n",
    "directory = pdf_name.split(\".\")[0]\n",
    "\n",
    "# os.rmdir(directory)\n",
    "# os.mkdir(directory)\n",
    "# os.getcwd()\n",
    "# directory = 'C:\\\\Users\\\\Areeba\\\\Desktop\\\\F21\\\\cluster-management\\\\PDF-Autograder\\\\lab6'\n",
    "os.chdir('C:\\\\Users\\\\Areeba\\\\Desktop\\\\F21\\\\cluster-management\\\\PDF-Autograder')\n",
    "print(os.getcwd())\n",
    "os.chdir(os.getcwd() + \"\\\\\" + directory)\n",
    "print(os.getcwd())\n",
    "os.chdir('..')\n",
    "print(os.getcwd())\n",
    "# print(os.getcwd())\n",
    "\n",
    "# os.listdir()\n"
   ]
  },
  {
   "cell_type": "code",
   "execution_count": 26,
   "id": "a94bbaf2",
   "metadata": {},
   "outputs": [
    {
     "name": "stdout",
     "output_type": "stream",
     "text": [
      "10\n"
     ]
    }
   ],
   "source": [
    "def pgcount_to_string (count):\n",
    "    ret_string = ''\n",
    "    if(int(count/10) == 0):\n",
    "        return str(0) + str(count)\n",
    "    return str(count)"
   ]
  },
  {
   "cell_type": "code",
   "execution_count": null,
   "id": "53bca1b7",
   "metadata": {},
   "outputs": [],
   "source": [
    "\n",
    "count = 1;\n",
    "\n",
    "for page in pages:\n",
    "    print(\"page \"  +  str(count))\n",
    "    page.save('out.jpg', 'JPEG')\n",
    "    count += 1"
   ]
  }
 ],
 "metadata": {
  "kernelspec": {
   "display_name": "Python 3 (ipykernel)",
   "language": "python",
   "name": "python3"
  },
  "language_info": {
   "codemirror_mode": {
    "name": "ipython",
    "version": 3
   },
   "file_extension": ".py",
   "mimetype": "text/x-python",
   "name": "python",
   "nbconvert_exporter": "python",
   "pygments_lexer": "ipython3",
   "version": "3.9.7"
  }
 },
 "nbformat": 4,
 "nbformat_minor": 5
}
