{
 "cells": [
  {
   "cell_type": "code",
   "execution_count": 24,
   "id": "5597f6ea",
   "metadata": {},
   "outputs": [],
   "source": [
    "import tkinter # check if these dependencies for camelot are importable\n",
    "import ghostscript"
   ]
  },
  {
   "cell_type": "code",
   "execution_count": 27,
   "id": "9e9e3ae3",
   "metadata": {},
   "outputs": [],
   "source": [
    "import camelot"
   ]
  },
  {
   "cell_type": "code",
   "execution_count": 35,
   "id": "97475f06",
   "metadata": {},
   "outputs": [
    {
     "name": "stdout",
     "output_type": "stream",
     "text": [
      "Total tables extracted from table.pdf: 1\n",
      "Total tables extracted from lab6.pdf: 0\n"
     ]
    }
   ],
   "source": [
    "file = \"table.pdf\"\n",
    "lab = \"lab6.pdf\"\n",
    "\n",
    "tables = camelot.read_pdf(file)\n",
    "print(\"Total tables extracted from \"  + file + \":\", tables.n)\n",
    "\n",
    "tables = camelot.read_pdf(lab) #Does not detect 1x1 cells\n",
    "print(\"Total tables extracted from \"  + lab + \":\", tables.n)\n"
   ]
  },
  {
   "cell_type": "code",
   "execution_count": 34,
   "id": "78e4c6a5",
   "metadata": {},
   "outputs": [],
   "source": [
    "import cv2"
   ]
  },
  {
   "cell_type": "code",
   "execution_count": null,
   "id": "f500f62e",
   "metadata": {},
   "outputs": [],
   "source": []
  }
 ],
 "metadata": {
  "kernelspec": {
   "display_name": "Python 3 (ipykernel)",
   "language": "python",
   "name": "python3"
  },
  "language_info": {
   "codemirror_mode": {
    "name": "ipython",
    "version": 3
   },
   "file_extension": ".py",
   "mimetype": "text/x-python",
   "name": "python",
   "nbconvert_exporter": "python",
   "pygments_lexer": "ipython3",
   "version": "3.9.7"
  }
 },
 "nbformat": 4,
 "nbformat_minor": 5
}
