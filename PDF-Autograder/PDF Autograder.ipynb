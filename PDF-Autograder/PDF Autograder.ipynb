{
 "cells": [
  {
   "cell_type": "code",
   "execution_count": 24,
   "id": "5597f6ea",
   "metadata": {},
   "outputs": [],
   "source": [
    "import tkinter # check if these dependencies for camelot are importable\n",
    "import ghostscript"
   ]
  },
  {
   "cell_type": "code",
   "execution_count": 27,
   "id": "9e9e3ae3",
   "metadata": {},
   "outputs": [],
   "source": [
    "import camelot"
   ]
  },
  {
   "cell_type": "code",
   "execution_count": 35,
   "id": "97475f06",
   "metadata": {},
   "outputs": [
    {
     "name": "stdout",
     "output_type": "stream",
     "text": [
      "Total tables extracted from table.pdf: 1\n",
      "Total tables extracted from lab6.pdf: 0\n"
     ]
    }
   ],
   "source": [
    "file = \"table.pdf\"\n",
    "lab = \"lab6.pdf\"\n",
    "\n",
    "tables = camelot.read_pdf(file)\n",
    "print(\"Total tables extracted from \"  + file + \":\", tables.n)\n",
    "\n",
    "tables = camelot.read_pdf(lab) #Does not detect 1x1 cells\n",
    "print(\"Total tables extracted from \"  + lab + \":\", tables.n)\n"
   ]
  },
  {
   "cell_type": "code",
   "execution_count": 71,
   "id": "78e4c6a5",
   "metadata": {},
   "outputs": [],
   "source": [
    "import cv2\n",
    "import os\n",
    "import shutil"
   ]
  },
  {
   "cell_type": "code",
   "execution_count": 85,
   "id": "f500f62e",
   "metadata": {},
   "outputs": [],
   "source": [
    "from pdf2image import convert_from_path    # should also get poppler (choco install poppler)\n",
    "\n",
    "pdf_name = 'lab6.pdf'\n",
    "\n",
    "pages = convert_from_path(pdf_name, 500)\n"
   ]
  },
  {
   "cell_type": "code",
   "execution_count": 88,
   "id": "74245664",
   "metadata": {
    "scrolled": true
   },
   "outputs": [
    {
     "name": "stdout",
     "output_type": "stream",
     "text": [
      "[]\n",
      "['out_01.jpg', 'out_02.jpg', 'out_03.jpg', 'out_04.jpg', 'out_05.jpg']\n",
      "C:\\Users\\Areeba\\Desktop\\F21\\cluster-management\\PDF-Autograder\n"
     ]
    }
   ],
   "source": [
    "# creates a directory with pdf name\n",
    "main_path_dir = os.getcwd()\n",
    "\n",
    "pdf_dir = pdf_name.split(\".\")[0]\n",
    "\n",
    "if os.path.exists(pdf_dir) and os.path.isdir(pdf_dir):\n",
    "    shutil.rmtree(pdf_dir)\n",
    "    \n",
    "os.mkdir(pdf_dir)\n",
    "os.chdir(pdf_dir)\n",
    "\n",
    "count = 1;\n",
    "\n",
    "for page in pages:\n",
    "    img_name = page_name(count)\n",
    "    page.save(img_name, 'JPEG')\n",
    "    count += 1\n",
    "    \n",
    "os.chdir(\"..\")"
   ]
  },
  {
   "cell_type": "code",
   "execution_count": 26,
   "id": "6d8e5610",
   "metadata": {},
   "outputs": [
    {
     "name": "stdout",
     "output_type": "stream",
     "text": [
      "10\n"
     ]
    }
   ],
   "source": [
    "def pgcount_to_string (count):\n",
    "    if(int(count/10) == 0):\n",
    "        return str(0) + str(count)\n",
    "    return str(count)"
   ]
  },
  {
   "cell_type": "code",
   "execution_count": 76,
   "id": "8a3c855f",
   "metadata": {},
   "outputs": [
    {
     "name": "stdout",
     "output_type": "stream",
     "text": [
      "out_01.jpg\n"
     ]
    }
   ],
   "source": [
    "def page_name(count):\n",
    "    return \"out_\" + pgcount_to_string(count) + \".jpg\""
   ]
  },
  {
   "cell_type": "code",
   "execution_count": null,
   "id": "e12b9d08",
   "metadata": {},
   "outputs": [],
   "source": [
    "# here --- crop out rectangles from every image: \n",
    "# code source https://stackoverflow.com/questions/57068541/detect-and-crop-a-box-in-pdf-or-image-as-individual-images\n"
   ]
  }
 ],
 "metadata": {
  "kernelspec": {
   "display_name": "Python 3 (ipykernel)",
   "language": "python",
   "name": "python3"
  },
  "language_info": {
   "codemirror_mode": {
    "name": "ipython",
    "version": 3
   },
   "file_extension": ".py",
   "mimetype": "text/x-python",
   "name": "python",
   "nbconvert_exporter": "python",
   "pygments_lexer": "ipython3",
   "version": "3.9.7"
  }
 },
 "nbformat": 4,
 "nbformat_minor": 5
}
